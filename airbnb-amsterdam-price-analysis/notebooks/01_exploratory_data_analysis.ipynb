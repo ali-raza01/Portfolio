{
 "cells": [
  {
   "cell_type": "markdown",
   "id": "5deeaedd",
   "metadata": {},
   "source": [
    "📊 EDA Goals\n",
    "Understand the distribution of prices and reviews.\n",
    "\n",
    "Identify correlations between features (e.g., availability, room type, host listings).\n",
    "\n",
    "Analyze popular neighbourhoods and listing types.\n",
    "\n",
    "Spot missing/erroneous data visually.\n",
    "\n",
    "Prep the foundation for modeling (feature insights)."
   ]
  },
  {
   "cell_type": "code",
   "execution_count": null,
   "id": "e48dc977",
   "metadata": {
    "vscode": {
     "languageId": "plaintext"
    }
   },
   "outputs": [],
   "source": [
    "\n",
    "# Setup\n",
    "import pandas as pd\n",
    "import matplotlib.pyplot as plt\n",
    "import seaborn as sns\n",
    "\n",
    "sns.set(style=\"whitegrid\")\n",
    "%matplotlib inline"
   ]
  },
  {
   "cell_type": "code",
   "execution_count": null,
   "id": "515abc5d",
   "metadata": {
    "vscode": {
     "languageId": "plaintext"
    }
   },
   "outputs": [],
   "source": [
    "# Load cleaned data\n",
    "listings = pd.read_csv(\"../data/processed/clean_listings.csv\")\n",
    "reviews = pd.read_csv(\"../data/processed/clean_reviews.csv\")\n",
    "merged = pd.read_csv(\"../data/processed/merged_data.csv\")"
   ]
  },
  {
   "cell_type": "code",
   "execution_count": null,
   "id": "68c6e14a",
   "metadata": {
    "vscode": {
     "languageId": "plaintext"
    }
   },
   "outputs": [],
   "source": [
    "# Overview\n",
    "print(\"Listings shape:\", listings.shape)\n",
    "print(\"Reviews shape:\", reviews.shape)\n",
    "\n",
    "display(listings.head())\n",
    "display(reviews.head())"
   ]
  },
  {
   "cell_type": "code",
   "execution_count": null,
   "id": "b61efb3e",
   "metadata": {
    "vscode": {
     "languageId": "plaintext"
    }
   },
   "outputs": [],
   "source": [
    "# Price distribution\n",
    "plt.figure(figsize=(10, 5))\n",
    "sns.histplot(listings['price'], bins=50, kde=True)\n",
    "plt.title('Distribution of Listing Prices')\n",
    "plt.xlabel('Price (Euro)')\n",
    "plt.xlim(0, 500)\n",
    "plt.show()"
   ]
  },
  {
   "cell_type": "code",
   "execution_count": null,
   "id": "b9c02ba1",
   "metadata": {
    "vscode": {
     "languageId": "plaintext"
    }
   },
   "outputs": [],
   "source": [
    "# Room type distribution\n",
    "plt.figure(figsize=(8, 4))\n",
    "sns.countplot(data=listings, x='room_type', order=listings['room_type'].value_counts().index)\n",
    "plt.title(\"Room Type Frequency\")\n",
    "plt.show()"
   ]
  },
  {
   "cell_type": "code",
   "execution_count": null,
   "id": "63581be0",
   "metadata": {
    "vscode": {
     "languageId": "plaintext"
    }
   },
   "outputs": [],
   "source": [
    "# Availability distribution\n",
    "plt.figure(figsize=(10, 5))\n",
    "sns.boxplot(data=listings, x='room_type', y='availability_365')\n",
    "plt.title(\"Availability by Room Type\")\n",
    "plt.ylim(0, 365)\n",
    "plt.show()"
   ]
  },
  {
   "cell_type": "code",
   "execution_count": null,
   "id": "c74b8651",
   "metadata": {
    "vscode": {
     "languageId": "plaintext"
    }
   },
   "outputs": [],
   "source": [
    "# Correlation heatmap\n",
    "corr = listings[['price', 'minimum_nights', 'number_of_reviews', 'reviews_per_month', 'availability_365']].corr()\n",
    "plt.figure(figsize=(8, 6))\n",
    "sns.heatmap(corr, annot=True, cmap='coolwarm')\n",
    "plt.title(\"Correlation Between Numerical Features\")\n",
    "plt.show()"
   ]
  },
  {
   "cell_type": "code",
   "execution_count": null,
   "id": "74d30039",
   "metadata": {
    "vscode": {
     "languageId": "plaintext"
    }
   },
   "outputs": [],
   "source": [
    "# Top neighbourhoods by average price\n",
    "top_neigh = merged.groupby(\"neighbourhood\")[\"price\"].mean().sort_values(ascending=False).head(10)\n",
    "plt.figure(figsize=(10, 6))\n",
    "sns.barplot(x=top_neigh.values, y=top_neigh.index)\n",
    "plt.title(\"Top 10 Neighbourhoods by Average Price\")\n",
    "plt.xlabel(\"Average Price\")\n",
    "plt.show()"
   ]
  },
  {
   "cell_type": "code",
   "execution_count": null,
   "id": "248e11db",
   "metadata": {
    "vscode": {
     "languageId": "plaintext"
    }
   },
   "outputs": [],
   "source": [
    "# Listings per host\n",
    "host_listings = listings['calculated_host_listings_count'].value_counts().sort_index()\n",
    "plt.figure(figsize=(10, 5))\n",
    "sns.barplot(x=host_listings.index, y=host_listings.values)\n",
    "plt.title(\"Number of Listings per Host\")\n",
    "plt.xlabel(\"Listings per Host\")\n",
    "plt.ylabel(\"Number of Hosts\")\n",
    "plt.show()"
   ]
  }
 ],
 "metadata": {
  "language_info": {
   "name": "python"
  }
 },
 "nbformat": 4,
 "nbformat_minor": 5
}
