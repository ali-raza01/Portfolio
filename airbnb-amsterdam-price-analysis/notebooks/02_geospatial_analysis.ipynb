{
 "cells": [
  {
   "cell_type": "markdown",
   "id": "899b2a91",
   "metadata": {},
   "source": [
    "🧭 Goals of This Module\n",
    "Load and inspect the neighbourhoods.geojson file.\n",
    "\n",
    "Join it with aggregated listing data.\n",
    "\n",
    "Create choropleth maps using folium:\n",
    "\n",
    "Average price per neighbourhood\n",
    "\n",
    "Review count per neighbourhood"
   ]
  },
  {
   "cell_type": "code",
   "execution_count": null,
   "id": "904892a8",
   "metadata": {
    "vscode": {
     "languageId": "plaintext"
    }
   },
   "outputs": [],
   "source": [
    "# Imports\n",
    "import pandas as pd\n",
    "import geopandas as gpd\n",
    "import folium\n",
    "from folium.plugins import HeatMap"
   ]
  },
  {
   "cell_type": "code",
   "execution_count": null,
   "id": "1ecf5e10",
   "metadata": {
    "vscode": {
     "languageId": "plaintext"
    }
   },
   "outputs": [],
   "source": [
    "\n",
    "# Load GeoJSON and processed data\n",
    "geojson_path = \"../data/raw/neighbourhoods.geojson\"\n",
    "merged = pd.read_csv(\"../data/processed/merged_data.csv\")\n",
    "\n",
    "gdf = gpd.read_file(geojson_path)\n",
    "print(gdf.columns)\n",
    "gdf.head()"
   ]
  },
  {
   "cell_type": "code",
   "execution_count": null,
   "id": "cfa1a075",
   "metadata": {
    "vscode": {
     "languageId": "plaintext"
    }
   },
   "outputs": [],
   "source": [
    "# Aggregate listing data by neighbourhood\n",
    "agg_data = merged.groupby(\"neighbourhood\").agg({\n",
    "    \"price\": \"mean\",\n",
    "    \"number_of_reviews\": \"sum\"\n",
    "}).reset_index()\n",
    "\n",
    "agg_data.columns = [\"neighbourhood\", \"avg_price\", \"total_reviews\"]"
   ]
  },
  {
   "cell_type": "code",
   "execution_count": null,
   "id": "7dda21b2",
   "metadata": {
    "vscode": {
     "languageId": "plaintext"
    }
   },
   "outputs": [],
   "source": [
    "# Merge GeoDataFrame with aggregated data\n",
    "gdf = gdf.merge(agg_data, on=\"neighbourhood\", how=\"left\")"
   ]
  },
  {
   "cell_type": "code",
   "execution_count": null,
   "id": "419c81e2",
   "metadata": {
    "vscode": {
     "languageId": "plaintext"
    }
   },
   "outputs": [],
   "source": [
    "# Create Choropleth Map for Average Price\n",
    "m1 = folium.Map(location=[52.37, 4.90], zoom_start=12, tiles='cartodbpositron')\n",
    "\n",
    "folium.Choropleth(\n",
    "    geo_data=gdf,\n",
    "    name=\"choropleth\",\n",
    "    data=gdf,\n",
    "    columns=[\"neighbourhood\", \"avg_price\"],\n",
    "    key_on=\"feature.properties.neighbourhood\",\n",
    "    fill_color=\"YlGnBu\",\n",
    "    fill_opacity=0.7,\n",
    "    line_opacity=0.2,\n",
    "    legend_name=\"Average Airbnb Price (€)\"\n",
    ").add_to(m1)\n",
    "\n",
    "m1.save(\"../outputs/figures/avg_price_map.html\")"
   ]
  },
  {
   "cell_type": "code",
   "execution_count": null,
   "id": "77fcf322",
   "metadata": {
    "vscode": {
     "languageId": "plaintext"
    }
   },
   "outputs": [],
   "source": [
    "# Choropleth for Total Reviews\n",
    "m2 = folium.Map(location=[52.37, 4.90], zoom_start=12, tiles='cartodbpositron')\n",
    "\n",
    "folium.Choropleth(\n",
    "    geo_data=gdf,\n",
    "    name=\"choropleth\",\n",
    "    data=gdf,\n",
    "    columns=[\"neighbourhood\", \"total_reviews\"],\n",
    "    key_on=\"feature.properties.neighbourhood\",\n",
    "    fill_color=\"PuRd\",\n",
    "    fill_opacity=0.7,\n",
    "    line_opacity=0.2,\n",
    "    legend_name=\"Total Number of Reviews\"\n",
    ").add_to(m2)\n",
    "\n",
    "m2.save(\"../outputs/figures/review_count_map.html\")"
   ]
  }
 ],
 "metadata": {
  "language_info": {
   "name": "python"
  }
 },
 "nbformat": 4,
 "nbformat_minor": 5
}
