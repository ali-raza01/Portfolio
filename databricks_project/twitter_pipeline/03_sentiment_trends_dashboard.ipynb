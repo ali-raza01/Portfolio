{
 "cells": [
  {
   "cell_type": "code",
   "execution_count": null,
   "id": "2fd6d7e1",
   "metadata": {},
   "outputs": [],
   "source": [
    "df_sentiment = spark.read.table(\"default.tweets_sentiment_gold\")\n",
    "df_sentiment.show(5)\n"
   ]
  }
 ],
 "metadata": {
  "language_info": {
   "name": "python"
  }
 },
 "nbformat": 4,
 "nbformat_minor": 5
}
