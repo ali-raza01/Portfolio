{
 "cells": [
  {
   "cell_type": "code",
   "execution_count": null,
   "id": "f403e454",
   "metadata": {},
   "outputs": [],
   "source": [
    "df = spark.table(\"default.tweets_20250623_001833\")\n",
    "df.printSchema()\n",
    "df.show(truncate=False)"
   ]
  },
  {
   "cell_type": "code",
   "execution_count": null,
   "id": "069b7862",
   "metadata": {},
   "outputs": [],
   "source": [
    "%pip install textblob"
   ]
  },
  {
   "cell_type": "code",
   "execution_count": null,
   "id": "101784ec",
   "metadata": {},
   "outputs": [],
   "source": [
    "from textblob import TextBlob\n",
    "from pyspark.sql.functions import udf\n",
    "from pyspark.sql.types import FloatType\n",
    "\n",
    "# Define sentiment analysis function\n",
    "def get_sentiment(text):\n",
    "    try:\n",
    "        return TextBlob(text).sentiment.polarity\n",
    "    except:\n",
    "        return 0.0\n",
    "\n",
    "# Register UDF\n",
    "sentiment_udf = udf(get_sentiment, FloatType())\n",
    "\n",
    "# Add sentiment score column\n",
    "df_sentiment = df.withColumn(\"sentiment\", sentiment_udf(df[\"text\"]))\n",
    "df_sentiment.select(\"text\", \"sentiment\").show(truncate=False)"
   ]
  },
  {
   "cell_type": "code",
   "execution_count": null,
   "id": "ac9194dd",
   "metadata": {},
   "outputs": [],
   "source": [
    "df_sentiment.write.format(\"delta\").mode(\"overwrite\").save(\"dbfs:/FileStore/twitter/gold/tweets_sentiment\")\n",
    "\n",
    "# Optional: register as table\n",
    "spark.sql(\"\"\"\n",
    "    CREATE OR REPLACE TABLE default.tweets_sentiment_gold\n",
    "    USING DELTA\n",
    "    LOCATION 'dbfs:/FileStore/twitter/gold/tweets_sentiment'\n",
    "\"\"\")"
   ]
  }
 ],
 "metadata": {
  "language_info": {
   "name": "python"
  }
 },
 "nbformat": 4,
 "nbformat_minor": 5
}
