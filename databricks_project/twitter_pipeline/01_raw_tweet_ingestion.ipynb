{
 "cells": [
  {
   "cell_type": "code",
   "execution_count": 3,
   "id": "20209036",
   "metadata": {},
   "outputs": [
    {
     "name": "stdout",
     "output_type": "stream",
     "text": [
      "{'edit_history_tweet_ids': ['1936859530505146680'], 'lang': 'en', 'id': '1936859530505146680', 'author_id': '932881495462641665', 'created_at': '2025-06-22T18:51:11.000Z', 'text': '@0xTired_ @sparkdotfi @cookiedotfun Good content Spark is ......'}\n"
     ]
    }
   ],
   "source": [
    "import os\n",
    "from dotenv import load_dotenv\n",
    "import sys\n",
    "sys.path.append(\"utils\")\n",
    "\n",
    "from twitter_api import search_recent_tweets\n",
    "# Load .env file from project root\n",
    "load_dotenv(dotenv_path=\"../.env\")\n",
    "\n",
    "# Get token securely\n",
    "bearer_token = os.getenv(\"TWITTER_BEARER_TOKEN\")\n",
    "if not bearer_token:\n",
    "    raise ValueError(\"Bearer token not found in .env\")\n",
    "else:\n",
    "    query = \"databricks OR spark lang:en -is:retweet\"\n",
    "\n",
    "tweets = search_recent_tweets(query, bearer_token)\n",
    "print(tweets[0])  # Inspect one tweet\n"
   ]
  },
  {
   "cell_type": "code",
   "execution_count": null,
   "id": "22731df6",
   "metadata": {},
   "outputs": [],
   "source": [
    "import os\n",
    "from dotenv import load_dotenv\n",
    "import sys\n",
    "import json\n",
    "from datetime import datetime\n",
    "\n",
    "# Set up path and import Twitter logic\n",
    "sys.path.append(\"utils\")\n",
    "from twitter_api import search_recent_tweets\n",
    "\n",
    "# Load token\n",
    "load_dotenv(dotenv_path=\"../.env\")\n",
    "bearer_token = os.getenv(\"TWITTER_BEARER_TOKEN\")\n",
    "if not bearer_token:\n",
    "    raise ValueError(\"Bearer token not found\")\n",
    "\n",
    "# 1. Get tweets\n",
    "query = \"databricks OR spark lang:en -is:retweet\"\n",
    "tweets = search_recent_tweets(query, bearer_token)\n",
    "\n",
    "# 2. Save tweets to local JSON\n",
    "timestamp = datetime.now().strftime(\"%Y%m%d_%H%M%S\")\n",
    "local_path = f\"/tmp/tweets_{timestamp}.json\"\n",
    "\n",
    "with open(local_path, \"w\") as f:\n",
    "    json.dump(tweets, f)\n",
    "\n",
    "print(f\"✅ Saved tweets locally at: {local_path}\")\n",
    "\n",
    "# 3. Upload to DBFS\n",
    "dbfs_path = f\"dbfs:/mnt/twitter/raw/tweets_{timestamp}.json\"\n",
    "dbutils.fs.cp(f\"file:{local_path}\", dbfs_path)\n",
    "print(f\"✅ Uploaded to DBFS at: {dbfs_path}\")\n",
    "\n",
    "# 4. Load into Spark DataFrame\n",
    "df = spark.read.json(dbfs_path)\n",
    "df.show(truncate=False)\n",
    "\n",
    "# 5. Save as Delta Lake table (overwrite or append)\n",
    "delta_path = \"dbfs:/mnt/twitter/silver/tweets_delta\"\n",
    "df.write.format(\"delta\").mode(\"append\").save(delta_path)\n",
    "print(f\"✅ Written to Delta table at: {delta_path}\")\n"
   ]
  }
 ],
 "metadata": {
  "kernelspec": {
   "display_name": "portfolio_env",
   "language": "python",
   "name": "python3"
  },
  "language_info": {
   "codemirror_mode": {
    "name": "ipython",
    "version": 3
   },
   "file_extension": ".py",
   "mimetype": "text/x-python",
   "name": "python",
   "nbconvert_exporter": "python",
   "pygments_lexer": "ipython3",
   "version": "3.11.13"
  }
 },
 "nbformat": 4,
 "nbformat_minor": 5
}
