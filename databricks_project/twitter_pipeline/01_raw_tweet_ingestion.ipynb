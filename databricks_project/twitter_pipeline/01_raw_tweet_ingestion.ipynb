{
 "cells": [
  {
   "cell_type": "code",
   "execution_count": null,
   "id": "20209036",
   "metadata": {
    "vscode": {
     "languageId": "plaintext"
    }
   },
   "outputs": [],
   "source": [
    "import os\n",
    "from dotenv import load_dotenv\n",
    "import sys\n",
    "sys.path.append(\"../utils\")\n",
    "\n",
    "from twitter_api import search_recent_tweets\n",
    "# Load .env file from project root\n",
    "load_dotenv(dotenv_path=\"../.env\")\n",
    "\n",
    "# Get token securely\n",
    "bearer_token = os.getenv(\"TWITTER_BEARER_TOKEN\")\n",
    "if not bearer_token:\n",
    "    raise ValueError(\"Bearer token not found in .env\")\n",
    "else:\n",
    "    query = \"databricks OR spark lang:en -is:retweet\"\n",
    "\n",
    "tweets = search_recent_tweets(query, bearer_token)\n",
    "print(tweets[0])  # Inspect one tweet\n"
   ]
  }
 ],
 "metadata": {
  "language_info": {
   "name": "python"
  }
 },
 "nbformat": 4,
 "nbformat_minor": 5
}
